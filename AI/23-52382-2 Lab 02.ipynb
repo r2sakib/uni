{
  "cells": [
    {
      "cell_type": "markdown",
      "metadata": {
        "id": "gVdgbvf19OA9"
      },
      "source": [
        "# About this notebook\n",
        "<p style=\"text-align: justify\"> Here, you will learn the basic statements of python and function. Some codes will be given for demonstration. Some other codes, you will do as excercise.</p>\n",
        "\n",
        "#Topics\n",
        "\n",
        "Basic Python Statements, IO, and Functions\n",
        "\n",
        "Quick review of if, if-else, loops\n",
        "\n",
        "Defining functions in python\n",
        "\n",
        "## Submission\n",
        "<p style=\"text-align: justify\">After completing the practice codes and exercises, download the notebook (.ipynb file) and submit the notebook  to MS Teams inbox in the class period</p>\n",
        "<p> 1.<b> You must submit your own code</b>. If similarity found negative marking will be given.</p>\n",
        "<p> 2. Modify the file name writing your ID at the beigining of the file name.</p><p> <b>Example: 20-45961-3 Lab 02.ipynb</b></p>\n",
        "<p> 3. Other file format (except .pynb) or link will not be accepted.</p>"
      ]
    },
    {
      "cell_type": "markdown",
      "metadata": {
        "id": "sVSQpyqT9OBH"
      },
      "source": [
        "# User Input"
      ]
    },
    {
      "cell_type": "code",
      "execution_count": null,
      "metadata": {
        "colab": {
          "base_uri": "https://localhost:8080/"
        },
        "id": "JPTt3qbo9OBI",
        "outputId": "4033e5b7-6be8-4026-a1dc-861b6de65f0d"
      },
      "outputs": [
        {
          "name": "stdout",
          "output_type": "stream",
          "text": [
            "Enter your name: asdf\n",
            "Hello, asdf!\n"
          ]
        }
      ],
      "source": [
        "# Basic User Input\n",
        "name = input(\"Enter your name: \")\n",
        "print(\"Hello, \" + name + \"!\")"
      ]
    },
    {
      "cell_type": "code",
      "execution_count": null,
      "metadata": {
        "colab": {
          "base_uri": "https://localhost:8080/"
        },
        "id": "YCouIBhhorBO",
        "outputId": "56da5f50-37f7-4e5d-9ee8-a77f7038e971"
      },
      "outputs": [
        {
          "name": "stdout",
          "output_type": "stream",
          "text": [
            "Enter your age: 23\n",
            "You will be 24 years old next year.\n"
          ]
        }
      ],
      "source": [
        "# Taking Integer Input\n",
        "age = int(input(\"Enter your age: \"))\n",
        "print(\"You will be\", age + 1, \"years old next year.\")"
      ]
    },
    {
      "cell_type": "code",
      "execution_count": 4,
      "metadata": {
        "colab": {
          "base_uri": "https://localhost:8080/"
        },
        "id": "WgnNFESa9OBL",
        "outputId": "a9ac67ad-f4d9-496e-adbf-9610b8725ed3"
      },
      "outputs": [
        {
          "name": "stdout",
          "output_type": "stream",
          "text": [
            "Sum: 15.5\n"
          ]
        }
      ],
      "source": [
        "#Taking Multiple Inputs (Space-Separated)\n",
        "a, b = map(int, input(\"Enter two numbers separated by space: \").split())\n",
        "print(\"Sum:\", a + b)"
      ]
    },
    {
      "cell_type": "code",
      "execution_count": null,
      "metadata": {
        "colab": {
          "base_uri": "https://localhost:8080/"
        },
        "id": "qGfffqzZ9OBM",
        "outputId": "d0c9402d-660b-4fee-d1c0-26ac7c884f15"
      },
      "outputs": [
        {
          "name": "stdout",
          "output_type": "stream",
          "text": [
            "Enter numbers separated by space: 1 3 4\n",
            "You entered: [1, 3, 4]\n"
          ]
        }
      ],
      "source": [
        "# List Input from User\n",
        "numbers = list(map(int, input(\"Enter numbers separated by space: \").split()))\n",
        "print(\"You entered:\", numbers)"
      ]
    },
    {
      "cell_type": "code",
      "execution_count": null,
      "metadata": {
        "colab": {
          "base_uri": "https://localhost:8080/"
        },
        "id": "66KPYYfXqq7a",
        "outputId": "3e18abbb-3019-44d9-a225-c2f1c8ed466b"
      },
      "outputs": [
        {
          "name": "stdout",
          "output_type": "stream",
          "text": [
            "Enter a number: w2\n",
            "Invalid input! Please enter a valid number.\n"
          ]
        }
      ],
      "source": [
        "# Handling Invalid Input (Using Try-Except)\n",
        "try:\n",
        "    num = int(input(\"Enter a number: \"))\n",
        "    print(\"Square of the number:\", num ** 2)\n",
        "except ValueError:\n",
        "    print(\"Invalid input! Please enter a valid number.\")\n"
      ]
    },
    {
      "cell_type": "markdown",
      "metadata": {
        "id": "yd5uai6a9OBO"
      },
      "source": [
        "# if statement\n",
        "There can be zero or more elif parts, and the else part is optional. The keyword ‘elif’ is short for ‘else if’"
      ]
    },
    {
      "cell_type": "code",
      "execution_count": null,
      "metadata": {
        "colab": {
          "base_uri": "https://localhost:8080/"
        },
        "id": "cqSEL09hbhkl",
        "outputId": "4e4c0728-4830-4667-83af-aa7475397a6f"
      },
      "outputs": [
        {
          "name": "stdout",
          "output_type": "stream",
          "text": [
            "Enter your age: 22\n",
            "You are eligible to vote.\n"
          ]
        }
      ],
      "source": [
        "# Basic if Statement\n",
        "age = int(input(\"Enter your age: \"))\n",
        "\n",
        "if age >= 18:\n",
        "    print(\"You are eligible to vote.\")\n"
      ]
    },
    {
      "cell_type": "code",
      "execution_count": null,
      "metadata": {
        "colab": {
          "base_uri": "https://localhost:8080/"
        },
        "id": "bkNWtGEA9OBP",
        "outputId": "082a5fb5-ed41-480c-c94d-72ba097819ea"
      },
      "outputs": [
        {
          "name": "stdout",
          "output_type": "stream",
          "text": [
            "Enter a number: 2\n",
            "The number is even.\n"
          ]
        }
      ],
      "source": [
        "#if-else Statement\n",
        "num = int(input(\"Enter a number: \"))\n",
        "\n",
        "if num % 2 == 0:\n",
        "    print(\"The number is even.\")\n",
        "else:\n",
        "    print(\"The number is odd.\")\n"
      ]
    },
    {
      "cell_type": "code",
      "execution_count": null,
      "metadata": {
        "colab": {
          "base_uri": "https://localhost:8080/"
        },
        "id": "4-2lHhfa9OBQ",
        "outputId": "4dad869a-17b9-49c5-8f72-892851001017"
      },
      "outputs": [
        {
          "name": "stdout",
          "output_type": "stream",
          "text": [
            "Enter your marks: 33\n",
            "Grade: F\n"
          ]
        }
      ],
      "source": [
        "# if-elif-else Statement\n",
        "marks = int(input(\"Enter your marks: \"))\n",
        "\n",
        "if marks >= 90:\n",
        "    print(\"Grade: A\")\n",
        "elif marks >= 80:\n",
        "    print(\"Grade: B\")\n",
        "elif marks >= 70:\n",
        "    print(\"Grade: C\")\n",
        "elif marks >= 60:\n",
        "    print(\"Grade: D\")\n",
        "else:\n",
        "    print(\"Grade: F\")\n"
      ]
    },
    {
      "cell_type": "code",
      "execution_count": null,
      "metadata": {
        "colab": {
          "base_uri": "https://localhost:8080/"
        },
        "id": "2LqnpBbure3B",
        "outputId": "301b3cd3-af1c-4a3d-e42d-e80b8db584f6"
      },
      "outputs": [
        {
          "name": "stdout",
          "output_type": "stream",
          "text": [
            "Enter the temperature: 22\n",
            "The weather is normal.\n"
          ]
        }
      ],
      "source": [
        "# Checking Multiple Conditions (and, or)\n",
        "temperature = float(input(\"Enter the temperature: \"))\n",
        "\n",
        "if temperature > 30 and temperature < 40:\n",
        "    print(\"It's a hot day.\")\n",
        "elif temperature >= 40:\n",
        "    print(\"It's extremely hot!\")\n",
        "else:\n",
        "    print(\"The weather is normal.\")\n"
      ]
    },
    {
      "cell_type": "code",
      "execution_count": null,
      "metadata": {
        "colab": {
          "base_uri": "https://localhost:8080/"
        },
        "id": "VaSAD9Z0rnGo",
        "outputId": "7373fe1c-3e58-4a48-99fe-7aed2ac62bf9"
      },
      "outputs": [
        {
          "name": "stdout",
          "output_type": "stream",
          "text": [
            "Enter a number: 23\n",
            "The number is positive.\n",
            "It is odd.\n"
          ]
        }
      ],
      "source": [
        "# Nested if Statement\n",
        "num = int(input(\"Enter a number: \"))\n",
        "\n",
        "if num > 0:\n",
        "    print(\"The number is positive.\")\n",
        "    if num % 2 == 0:\n",
        "        print(\"It is also even.\")\n",
        "    else:\n",
        "        print(\"It is odd.\")\n",
        "elif num < 0:\n",
        "    print(\"The number is negative.\")\n",
        "else:\n",
        "    print(\"The number is zero.\")\n"
      ]
    },
    {
      "cell_type": "markdown",
      "metadata": {
        "id": "BLPDtgWr9OBT"
      },
      "source": [
        "# for statement\n",
        "<p style=\"text-align: justify\">The for statement in Python differs a bit from what you may be used to in C or C++. Rather than always giving the user the ability to define both the iteration step and halting condition, Python’s for statement iterates over the items of any sequence (a list or a string), in the order that they appear in the sequence.</p>"
      ]
    },
    {
      "cell_type": "code",
      "execution_count": null,
      "metadata": {
        "colab": {
          "base_uri": "https://localhost:8080/"
        },
        "id": "k6eiUKVF9OBU",
        "outputId": "0ce3dab9-7472-4bdb-ec7d-aabe80ccd6ee"
      },
      "outputs": [
        {
          "name": "stdout",
          "output_type": "stream",
          "text": [
            "Iteration: 0\n",
            "Iteration: 1\n",
            "Iteration: 2\n",
            "Iteration: 3\n",
            "Iteration: 4\n"
          ]
        }
      ],
      "source": [
        "#Basic for Loop\n",
        "for i in range(5):\n",
        "    print(\"Iteration:\", i)    #    for (int i = 0; i < 5; i++)\n",
        "\n"
      ]
    },
    {
      "cell_type": "code",
      "execution_count": null,
      "metadata": {
        "colab": {
          "base_uri": "https://localhost:8080/"
        },
        "id": "-FTCswVpc4Dd",
        "outputId": "5f4f2bbe-ad43-4e6b-9501-4cb190572007"
      },
      "outputs": [
        {
          "name": "stdout",
          "output_type": "stream",
          "text": [
            "Apple\n",
            "Banana\n",
            "Cherry\n"
          ]
        }
      ],
      "source": [
        "# for Loop Over a List\n",
        "fruits = [\"Apple\", \"Banana\", \"Cherry\"]\n",
        "\n",
        "for fruit in fruits:\n",
        "    print(fruit)\n"
      ]
    },
    {
      "cell_type": "code",
      "execution_count": null,
      "metadata": {
        "colab": {
          "base_uri": "https://localhost:8080/"
        },
        "id": "NdM3WOnovXx2",
        "outputId": "333c4e7c-7b67-4d4f-b500-42da78ef1c12"
      },
      "outputs": [
        {
          "name": "stdout",
          "output_type": "stream",
          "text": [
            "P\n",
            "y\n",
            "t\n",
            "h\n",
            "o\n",
            "n\n"
          ]
        }
      ],
      "source": [
        "# Looping Through a String\n",
        "word = \"Python\"\n",
        "\n",
        "for char in word:\n",
        "    print(char)\n",
        "    "
      ]
    },
    {
      "cell_type": "code",
      "execution_count": null,
      "metadata": {
        "colab": {
          "base_uri": "https://localhost:8080/"
        },
        "id": "B-5xBavXMl2m",
        "outputId": "3b617e2e-4aee-4562-984c-16d16b69996b"
      },
      "outputs": [
        {
          "name": "stdout",
          "output_type": "stream",
          "text": [
            "1\n",
            "3\n",
            "5\n",
            "7\n",
            "9\n"
          ]
        }
      ],
      "source": [
        "# Looping with range(start, stop, step)\n",
        "for i in range(1, 10, 2):\n",
        "    print(i)"
      ]
    },
    {
      "cell_type": "code",
      "execution_count": null,
      "metadata": {
        "colab": {
          "base_uri": "https://localhost:8080/"
        },
        "id": "-XYDNRM5M6vy",
        "outputId": "4aacf97d-c921-4689-d4ef-0c7909f1a694"
      },
      "outputs": [
        {
          "name": "stdout",
          "output_type": "stream",
          "text": [
            "name : Alice\n",
            "age : 20\n",
            "grade : A\n"
          ]
        },
        {
          "data": {
            "text/plain": [
              "dict_items([('name', 'Alice'), ('age', 20), ('grade', 'A')])"
            ]
          },
          "execution_count": 5,
          "metadata": {},
          "output_type": "execute_result"
        }
      ],
      "source": [
        "# Looping Over a Dictionary\n",
        "student = {\"name\": \"Alice\", \"age\": 20, \"grade\": \"A\"}\n",
        "\n",
        "for key, value in student.items():\n",
        "    print(key, \":\", value)"
      ]
    },
    {
      "cell_type": "code",
      "execution_count": 6,
      "metadata": {
        "colab": {
          "base_uri": "https://localhost:8080/"
        },
        "id": "lwn8tUUxNFbv",
        "outputId": "602473f7-7152-4da0-a6d3-20454e52df32"
      },
      "outputs": [
        {
          "name": "stdout",
          "output_type": "stream",
          "text": [
            "0 : Red\n",
            "1 : Green\n",
            "2 : Blue\n"
          ]
        },
        {
          "data": {
            "text/plain": [
              "<enumerate at 0x270ee1b1b70>"
            ]
          },
          "execution_count": 6,
          "metadata": {},
          "output_type": "execute_result"
        }
      ],
      "source": [
        "# Using for Loop with enumerate()\n",
        "colors = [\"Red\", \"Green\", \"Blue\"]\n",
        "\n",
        "for index, color in enumerate(colors):\n",
        "    print(index, \":\", color)\n"
      ]
    },
    {
      "cell_type": "code",
      "execution_count": null,
      "metadata": {
        "colab": {
          "base_uri": "https://localhost:8080/"
        },
        "id": "7V6W6i6ysOm6",
        "outputId": "aabc3a6b-a78e-4def-e816-68c49d770db5"
      },
      "outputs": [
        {
          "name": "stdout",
          "output_type": "stream",
          "text": [
            "i=1, j=1\n",
            "i=1, j=2\n",
            "i=1, j=3\n",
            "i=2, j=1\n",
            "i=2, j=2\n",
            "i=2, j=3\n",
            "i=3, j=1\n",
            "i=3, j=2\n",
            "i=3, j=3\n"
          ]
        }
      ],
      "source": [
        "# Nested for Loop\n",
        "for i in range(1, 4):\n",
        "    for j in range(1, 4):\n",
        "        print(f\"i={i}, j={j}\")"
      ]
    },
    {
      "cell_type": "code",
      "execution_count": null,
      "metadata": {
        "colab": {
          "base_uri": "https://localhost:8080/"
        },
        "id": "eljpCkgZsSGK",
        "outputId": "0afd1aca-cbd6-4550-911d-59bcaabf5a87"
      },
      "outputs": [
        {
          "name": "stdout",
          "output_type": "stream",
          "text": [
            "1\n",
            "2\n",
            "4\n"
          ]
        }
      ],
      "source": [
        "# for Loop with break and continue\n",
        "for num in range(1, 6):\n",
        "    if num == 3:\n",
        "        continue  # Skips 3\n",
        "    if num == 5:\n",
        "        break  # Stops loop at 5\n",
        "    print(num)"
      ]
    },
    {
      "cell_type": "markdown",
      "metadata": {
        "id": "UpWE7Kch9OBd"
      },
      "source": [
        "# Functions\n",
        "<p style=\"text-align: justify\">The keyword def introduces a function definition. It must be followed by the function name and the parenthesized list of formal parameters. The statements that form the body of the function start at the next line, and must be indented.</p>"
      ]
    },
    {
      "cell_type": "code",
      "execution_count": null,
      "metadata": {
        "colab": {
          "base_uri": "https://localhost:8080/"
        },
        "id": "6ewe2yQXso3A",
        "outputId": "9b3349d0-d1f1-4942-b31d-f4e15e5eb48e"
      },
      "outputs": [
        {
          "name": "stdout",
          "output_type": "stream",
          "text": [
            "Hello, Welcome to Python!\n"
          ]
        }
      ],
      "source": [
        "# Basic Function (No Parameters, No Return)\n",
        "def greet():\n",
        "    print(\"Hello, Welcome to Python!\")\n",
        "\n",
        "greet()  # Calling the function\n"
      ]
    },
    {
      "cell_type": "code",
      "execution_count": null,
      "metadata": {
        "colab": {
          "base_uri": "https://localhost:8080/"
        },
        "id": "Eva9fj0esshV",
        "outputId": "507f8554-ef60-4902-c1f5-569d0514a354"
      },
      "outputs": [
        {
          "name": "stdout",
          "output_type": "stream",
          "text": [
            "Sum: 8\n"
          ]
        }
      ],
      "source": [
        "# Function with Parameters\n",
        "def add_numbers(a, b):\n",
        "    print(\"Sum:\", a + b)\n",
        "\n",
        "add_numbers(5, 3)  # Output: Sum: 8\n"
      ]
    },
    {
      "cell_type": "code",
      "execution_count": null,
      "metadata": {
        "colab": {
          "base_uri": "https://localhost:8080/"
        },
        "id": "qvT9R8yLs07w",
        "outputId": "134a3686-ba61-4803-c858-dec06bdf8b70"
      },
      "outputs": [
        {
          "name": "stdout",
          "output_type": "stream",
          "text": [
            "Multiplication: 20\n"
          ]
        }
      ],
      "source": [
        "# Function with Return Value\n",
        "def multiply(a, b):\n",
        "    return a * b\n",
        "\n",
        "result = multiply(4, 5)\n",
        "print(\"Multiplication:\", result)  # Output: 20\n"
      ]
    },
    {
      "cell_type": "code",
      "execution_count": null,
      "metadata": {
        "colab": {
          "base_uri": "https://localhost:8080/"
        },
        "id": "n2Hmd9kZs50X",
        "outputId": "c55deadd-5aae-48a1-f1e9-e7f6cd5b55f0"
      },
      "outputs": [
        {
          "name": "stdout",
          "output_type": "stream",
          "text": [
            "Hello, Guest\n",
            "Hello, Alice\n"
          ]
        }
      ],
      "source": [
        "# Function with Default Parameter\n",
        "def greet(name=\"Guest\"):\n",
        "    print(\"Hello,\", name)\n",
        "\n",
        "greet()          # Output: Hello, Guest\n",
        "greet(\"Alice\")   # Output: Hello, Alice\n"
      ]
    },
    {
      "cell_type": "code",
      "execution_count": null,
      "metadata": {
        "colab": {
          "base_uri": "https://localhost:8080/"
        },
        "id": "H7O-H8mbtBSM",
        "outputId": "e6afd83d-c5a3-4932-84ab-d86beaae0d17"
      },
      "outputs": [
        {
          "name": "stdout",
          "output_type": "stream",
          "text": [
            "Square: 9 Cube: 27\n"
          ]
        }
      ],
      "source": [
        "# Function with Multiple Return Values\n",
        "def get_square_and_cube(n):\n",
        "    return n**2, n**3\n",
        "\n",
        "square, cube = get_square_and_cube(3)\n",
        "print(\"Square:\", square, \"Cube:\", cube)  # Output: Square: 9, Cube: 27\n"
      ]
    },
    {
      "cell_type": "code",
      "execution_count": null,
      "metadata": {
        "colab": {
          "base_uri": "https://localhost:8080/"
        },
        "id": "kIdmOaxitGAR",
        "outputId": "90a0d380-9fdc-467f-ed75-02bcf4c6c9c4"
      },
      "outputs": [
        {
          "name": "stdout",
          "output_type": "stream",
          "text": [
            "15\n"
          ]
        }
      ],
      "source": [
        "# Function Using *args (Multiple Arguments)\n",
        "def add_all(*numbers):\n",
        "    return sum(numbers)\n",
        "\n",
        "print(add_all(1, 2, 3, 4, 5))  # Output: 15"
      ]
    },
    {
      "cell_type": "markdown",
      "metadata": {
        "id": "CVf1xuAst3a6"
      },
      "source": [
        "<b>Exercise 1:</b> Write a Python program to find the sum of the first N natural numbers using a for loop.<br>\n",
        "Example:<br>\n",
        "Input: N = 5  \n",
        "Output: 15\n"
      ]
    },
    {
      "cell_type": "code",
      "execution_count": 8,
      "metadata": {
        "id": "iRWd9j10t_sq"
      },
      "outputs": [
        {
          "name": "stdout",
          "output_type": "stream",
          "text": [
            "15\n"
          ]
        }
      ],
      "source": [
        "#CODE\n",
        "\n",
        "try:\n",
        "    n = int(input('Enter n'))\n",
        "except ValueError:\n",
        "    print(\"Input is not valid\")\n",
        "\n",
        "sum = 0\n",
        "for i in range(1, n+1):\n",
        "    sum += i\n",
        "\n",
        "print(sum)"
      ]
    },
    {
      "cell_type": "markdown",
      "metadata": {
        "id": "C4lDMbW0HHkE"
      },
      "source": [
        "**Exercise 2:** Take a number (0-100) from user and use if statement to print corresponding grade."
      ]
    },
    {
      "cell_type": "code",
      "execution_count": 11,
      "metadata": {
        "id": "gTIfNre9HZaC"
      },
      "outputs": [
        {
          "name": "stdout",
          "output_type": "stream",
          "text": [
            "Grade: D\n"
          ]
        }
      ],
      "source": [
        "#CODE\n",
        "try:\n",
        "    mark = int(input(\"Enter a number (0-100): \"))\n",
        "except ValueError:\n",
        "    print('Invalid input. Number ranges from 0-100')\n",
        "\n",
        "if mark >= 90:\n",
        "    print(\"Grade: A+\")\n",
        "elif mark >= 85:\n",
        "    print(\"Grade: A\")\n",
        "elif mark >= 80:\n",
        "    print(\"Grade: B+\")\n",
        "elif mark >= 75:\n",
        "    print(\"Grade: B\")\n",
        "elif mark >= 70:\n",
        "    print(\"Grade: C+\")\n",
        "elif mark >= 65:\n",
        "    print(\"Grade: C\")\n",
        "elif mark >= 60:\n",
        "    print(\"Grade: D+\")\n",
        "elif mark >= 50:\n",
        "    print(\"Grade: D\")\n",
        "else:\n",
        "    print(\"Grade: F\")"
      ]
    },
    {
      "cell_type": "markdown",
      "metadata": {
        "id": "xT01zayjuYue"
      },
      "source": [
        "<b>Exercise 3:</b> Write a Python program that reverses a string using a for loop.<br>\n",
        "Example: <br>\n",
        "Input: \"Python\"  \n",
        "Output: \"nohtyP\"\n"
      ]
    },
    {
      "cell_type": "code",
      "execution_count": null,
      "metadata": {
        "id": "rr5KvZkkuxi4"
      },
      "outputs": [
        {
          "name": "stdout",
          "output_type": "stream",
          "text": [
            "Reversed string: nohtyP\n"
          ]
        }
      ],
      "source": [
        "#CODE\n",
        "str = input('Enter a string to reverse')\n",
        "reverse_str = ''\n",
        "\n",
        "for s in str:\n",
        "    reverse_str = s + reverse_str\n",
        "\n",
        "print(\"Reversed string:\", reverse_str)"
      ]
    },
    {
      "cell_type": "markdown",
      "metadata": {
        "id": "K8dVrthmLsjt"
      },
      "source": [
        "**Exercise 4:** Print all the even numbers between 0 to 100 using for and range."
      ]
    },
    {
      "cell_type": "code",
      "execution_count": 14,
      "metadata": {
        "id": "zpmYtfU4Ly4l"
      },
      "outputs": [
        {
          "name": "stdout",
          "output_type": "stream",
          "text": [
            "0\n",
            "2\n",
            "4\n",
            "6\n",
            "8\n",
            "10\n",
            "12\n",
            "14\n",
            "16\n",
            "18\n",
            "20\n",
            "22\n",
            "24\n",
            "26\n",
            "28\n",
            "30\n",
            "32\n",
            "34\n",
            "36\n",
            "38\n",
            "40\n",
            "42\n",
            "44\n",
            "46\n",
            "48\n",
            "50\n",
            "52\n",
            "54\n",
            "56\n",
            "58\n",
            "60\n",
            "62\n",
            "64\n",
            "66\n",
            "68\n",
            "70\n",
            "72\n",
            "74\n",
            "76\n",
            "78\n",
            "80\n",
            "82\n",
            "84\n",
            "86\n",
            "88\n",
            "90\n",
            "92\n",
            "94\n",
            "96\n",
            "98\n",
            "100\n"
          ]
        }
      ],
      "source": [
        "#CODE\n",
        "\n",
        "for i in range(0, 100+1):\n",
        "    if i % 2 == 0:\n",
        "        print(i)"
      ]
    },
    {
      "cell_type": "markdown",
      "metadata": {
        "id": "ICNPFsDQ9OBh"
      },
      "source": [
        "\n",
        "\n",
        "```\n",
        "# This is formatted as code\n",
        "```\n",
        "\n",
        "<b>Exercise 5:</b> Define a <b>method/function</b> which will take two lists of numbers and returns a list (sum of two lists)\n",
        "<p>Example:<br>\n",
        "    Input: [3,4,5,1] and [6,7,2,8]<br>\n",
        "    output: [9,11,7,9]</p>\n"
      ]
    },
    {
      "cell_type": "code",
      "execution_count": 21,
      "metadata": {
        "id": "5MPMcHnz9OBi"
      },
      "outputs": [
        {
          "name": "stdout",
          "output_type": "stream",
          "text": [
            "[9, 11, 7, 9]\n"
          ]
        }
      ],
      "source": [
        "# code here\n",
        "\n",
        "def sum(list1, list2):\n",
        "    sum = []\n",
        "    for i, j in zip(list1, list2):\n",
        "        sum.append(i + j)\n",
        "    \n",
        "    return sum\n",
        "\n",
        "sum = sum([3, 4, 5, 1], [6, 7, 2, 8])\n",
        "print(sum)"
      ]
    },
    {
      "cell_type": "markdown",
      "metadata": {
        "id": "DSjaC86G9OBi"
      },
      "source": [
        "<b> Exercise 6:</b> Write a <b>method</b> which will take the <b>full name</b> as input and return both the first name and last name.\n",
        "<p>Example:<br>\n",
        "    Input: Arafat Rahman Sunny<br>\n",
        "    Output: First name: Arafat, Last name: Sunny</p>"
      ]
    },
    {
      "cell_type": "code",
      "execution_count": 22,
      "metadata": {
        "id": "HCpI48lj9OBi"
      },
      "outputs": [
        {
          "name": "stdout",
          "output_type": "stream",
          "text": [
            "Frist name: Arafat, Last name: Sunny\n"
          ]
        }
      ],
      "source": [
        "# code here\n",
        "\n",
        "def names(name):\n",
        "    names = name.split();\n",
        "    return names[0], names[-1]\n",
        "\n",
        "first, last = names('Arafat Rahman Sunny')\n",
        "print(f'Frist name: {first}, Last name: {last}')"
      ]
    },
    {
      "cell_type": "markdown",
      "metadata": {
        "id": "5sptH6NJu6CD"
      },
      "source": [
        "**Exercise 7:** Write a recursive function to compute the factorial of a number.​"
      ]
    },
    {
      "cell_type": "code",
      "execution_count": 27,
      "metadata": {
        "id": "OJCAJJwtMaDP"
      },
      "outputs": [
        {
          "name": "stdout",
          "output_type": "stream",
          "text": [
            "24\n"
          ]
        }
      ],
      "source": [
        "#CODE\n",
        "\n",
        "def factorial(n):\n",
        "    if n == 1:\n",
        "        return 1\n",
        "    return n*factorial(n-1)\n",
        "\n",
        "print(factorial(4))"
      ]
    }
  ],
  "metadata": {
    "colab": {
      "provenance": []
    },
    "kernelspec": {
      "display_name": "Python 3",
      "language": "python",
      "name": "python3"
    },
    "language_info": {
      "codemirror_mode": {
        "name": "ipython",
        "version": 3
      },
      "file_extension": ".py",
      "mimetype": "text/x-python",
      "name": "python",
      "nbconvert_exporter": "python",
      "pygments_lexer": "ipython3",
      "version": "3.13.5"
    }
  },
  "nbformat": 4,
  "nbformat_minor": 0
}
