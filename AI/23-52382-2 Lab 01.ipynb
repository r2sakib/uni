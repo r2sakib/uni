{
  "cells": [
    {
      "cell_type": "markdown",
      "metadata": {
        "id": "tUakohw5RzmN"
      },
      "source": [
        "# About this notebook\n",
        "<p style=\"text-align: justify\"> Here, you will learn the basic coding and data structures including numbers, strings, list, dictionaries and more. Some codes already done for demonstration. Some other codes, you will do as excercises.</p>\n",
        "\n",
        "**TOPICS**\n",
        "\n",
        "Introduction to python data types\n",
        "\n",
        "Data manipulation with string, list, dictionaries, and tuples\n",
        "\n",
        "## Submission\n",
        "<p style=\"text-align: justify\">After completing the practice codes and exercises, download the notebook (.pynb file) and submit the notebook  to MS Teams inbox in the class period</p>\n",
        "<p> 1.<b> You must submit your own code</b>. If similarity found negative marking will be given.</p>\n",
        "<p> 2. Modify the file name writing ID at the beigining of the file name. </p><p><b>Example: 20-45961-3 Lab 01.ipynb</b></p>\n",
        "<p> 3. Other file format (except .pynb) or link will not be accepted.</p>"
      ]
    },
    {
      "cell_type": "markdown",
      "metadata": {
        "id": "iQlhsnAxRzmQ"
      },
      "source": [
        "# Number"
      ]
    },
    {
      "cell_type": "markdown",
      "metadata": {
        "id": "o2tdR7GeesS-"
      },
      "source": [
        "**Basic Arithmetic Operations**"
      ]
    },
    {
      "cell_type": "code",
      "execution_count": 4,
      "metadata": {
        "colab": {
          "base_uri": "https://localhost:8080/"
        },
        "id": "EgjVFy62RzmR",
        "outputId": "bba8fde4-5180-4a20-8874-a7c3b2b568cb"
      },
      "outputs": [
        {
          "name": "stdout",
          "output_type": "stream",
          "text": [
            "Sum: 15, Difference: 5, Product: 50, Division: 2.0\n"
          ]
        }
      ],
      "source": [
        "# Addition, Subtraction, Multiplication, Division\n",
        "a = 10\n",
        "b = 5\n",
        "\n",
        "sum_result = a + b\n",
        "difference_result = a - b\n",
        "product_result = a * b\n",
        "division_result = a / b\n",
        "\n",
        "print(f\"Sum: {sum_result}, Difference: {difference_result}, Product: {product_result}, Division: {division_result}\")\n"
      ]
    },
    {
      "cell_type": "markdown",
      "metadata": {
        "id": "L1A8cyZhel8G"
      },
      "source": [
        "**Exponentiation and Modulus**"
      ]
    },
    {
      "cell_type": "code",
      "execution_count": null,
      "metadata": {
        "colab": {
          "base_uri": "https://localhost:8080/"
        },
        "id": "F0FimSxMRzmS",
        "outputId": "d23c7e59-193c-4a05-da1b-53c1e753c34a"
      },
      "outputs": [],
      "source": [
        "# Exponentiation (Power) and Modulus (Remainder)\n",
        "base = 2\n",
        "exponent = 3\n",
        "\n",
        "power_result = base ** exponent\n",
        "modulus_result = a % b\n",
        "\n",
        "print(f\"Power: {power_result}, Modulus: {modulus_result}\")"
      ]
    },
    {
      "cell_type": "markdown",
      "metadata": {
        "id": "5J_-KzeDe4l2"
      },
      "source": [
        "**Floor Division**"
      ]
    },
    {
      "cell_type": "code",
      "execution_count": null,
      "metadata": {
        "colab": {
          "base_uri": "https://localhost:8080/"
        },
        "id": "CjDuJ9zqRzmS",
        "outputId": "821d7d5d-7d3e-4cf3-dc17-a0104318cd44"
      },
      "outputs": [],
      "source": [
        "# Floor Division\n",
        "floor_result = a // b   # floored division result\n",
        "\n",
        "print(f\"Floor Division: {floor_result}\")"
      ]
    },
    {
      "cell_type": "markdown",
      "metadata": {
        "id": "mBRQRK5Me-a2"
      },
      "source": [
        "**Absolute Value and Rounding**"
      ]
    },
    {
      "cell_type": "code",
      "execution_count": null,
      "metadata": {
        "colab": {
          "base_uri": "https://localhost:8080/"
        },
        "id": "q8eSw206RzmT",
        "outputId": "cc5de2a7-8daa-4ba1-de1b-9513b6fdbd23"
      },
      "outputs": [],
      "source": [
        "# Absolute Value and Rounding\n",
        "negative_number = -7.5\n",
        "\n",
        "absolute_value = abs(negative_number)\n",
        "rounded_value = round(negative_number)\n",
        "\n",
        "print(f\"Absolute Value: {absolute_value}, Rounded Value: {rounded_value}\")"
      ]
    },
    {
      "cell_type": "markdown",
      "metadata": {
        "id": "hlzr4PFFfFce"
      },
      "source": [
        "**Using the math module for advanced number operations**"
      ]
    },
    {
      "cell_type": "code",
      "execution_count": null,
      "metadata": {
        "colab": {
          "base_uri": "https://localhost:8080/"
        },
        "id": "NiPvZZDiRzmT",
        "outputId": "3daf9614-1284-4dea-cdfc-b3c8dccecd1e"
      },
      "outputs": [],
      "source": [
        "import math\n",
        "\n",
        "# Square root, Factorial, and Trigonometric functions\n",
        "square_root = math.sqrt(16)\n",
        "factorial_result = math.factorial(5)\n",
        "sin_value = math.sin(math.radians(30))\n",
        "\n",
        "print(f\"Square Root: {square_root}, Factorial: {factorial_result}, sin(30 degrees): {sin_value}\")"
      ]
    },
    {
      "cell_type": "markdown",
      "metadata": {
        "id": "xDRpa1dAfMAe"
      },
      "source": [
        "**Random Number Generation**"
      ]
    },
    {
      "cell_type": "code",
      "execution_count": null,
      "metadata": {
        "colab": {
          "base_uri": "https://localhost:8080/"
        },
        "id": "DxWMtt3-RzmU",
        "outputId": "0c7bbba1-a8de-4910-9d92-da2ef05a8678"
      },
      "outputs": [],
      "source": [
        "import random\n",
        "\n",
        "# Generate a random number between 1 and 100\n",
        "random_number = random.randint(1, 100)\n",
        "print(f\"Random Number: {random_number}\")\n",
        "\n",
        "# Generate a random float between 0 and 1\n",
        "random_float = random.random()\n",
        "print(f\"Random Float: {random_float}\")"
      ]
    },
    {
      "cell_type": "markdown",
      "metadata": {
        "id": "SKFSp-jyRzmW"
      },
      "source": [
        "<b>Note:</b> A cell in Python will only display the value of the last expression. If you want to output other values, you should use the *print()* function."
      ]
    },
    {
      "cell_type": "markdown",
      "metadata": {
        "id": "mzYaXui8RzmX"
      },
      "source": [
        "# Object types\n",
        "The basic object types are Numbers, Strings, Lists, Dictionaries, Tuples, Files and Other types (Sets, types, None, Booleans etc.)"
      ]
    },
    {
      "cell_type": "markdown",
      "metadata": {
        "id": "Kr5AuYMAnIfW"
      },
      "source": [
        "**Integer and Float**"
      ]
    },
    {
      "cell_type": "code",
      "execution_count": null,
      "metadata": {
        "id": "m9Ph-hDmteoA"
      },
      "outputs": [],
      "source": [
        "a=10.5\n",
        "b=6"
      ]
    },
    {
      "cell_type": "code",
      "execution_count": null,
      "metadata": {
        "colab": {
          "base_uri": "https://localhost:8080/"
        },
        "id": "2RVFS2BPRzmX",
        "outputId": "aa88fbb5-87be-4460-e89a-2f911b691339"
      },
      "outputs": [],
      "source": [
        "# Checking the type of an object\n",
        "print(type(a))\n",
        "print(type(b))"
      ]
    },
    {
      "cell_type": "markdown",
      "metadata": {
        "id": "SvfqJBZ9nYBt"
      },
      "source": [
        "**String**"
      ]
    },
    {
      "cell_type": "code",
      "execution_count": null,
      "metadata": {
        "colab": {
          "base_uri": "https://localhost:8080/"
        },
        "id": "YgdInV-bRzmZ",
        "outputId": "9e689673-84cb-42a1-9058-29f7f295dbe2"
      },
      "outputs": [],
      "source": [
        "# Concatenation\n",
        "greeting = \"Hello, \"\n",
        "name = \"Alice\"\n",
        "message = greeting + name  # Combine strings\n",
        "print(message)"
      ]
    },
    {
      "cell_type": "code",
      "execution_count": null,
      "metadata": {
        "colab": {
          "base_uri": "https://localhost:8080/"
        },
        "id": "SApsog7_RzmZ",
        "outputId": "cdfde359-8c61-4448-e675-62aa3095365a"
      },
      "outputs": [],
      "source": [
        "# Repetition\n",
        "repeat_string = \"Hi! \" * 3\n",
        "print(repeat_string)"
      ]
    },
    {
      "cell_type": "code",
      "execution_count": null,
      "metadata": {
        "colab": {
          "base_uri": "https://localhost:8080/"
        },
        "id": "paYi-atNn01N",
        "outputId": "15d19802-ef87-4784-b67c-f03e29534f20"
      },
      "outputs": [],
      "source": [
        "# Slicing\n",
        "text = \"Hello, World!\"\n",
        "substring = text[7:12]  # Extract substring\n",
        "print(substring)"
      ]
    },
    {
      "cell_type": "code",
      "execution_count": null,
      "metadata": {
        "colab": {
          "base_uri": "https://localhost:8080/"
        },
        "id": "BfxzLD9HRzma",
        "outputId": "d5941ef8-933e-45bf-90a1-40c558f7c717"
      },
      "outputs": [],
      "source": [
        "# Changing case\n",
        "text = \"hello\"\n",
        "upper_case = text.upper()  # Convert to uppercase\n",
        "lower_case = text.lower()  # Convert to lowercase\n",
        "print(upper_case)\n",
        "print(lower_case)"
      ]
    },
    {
      "cell_type": "code",
      "execution_count": null,
      "metadata": {
        "colab": {
          "base_uri": "https://localhost:8080/"
        },
        "id": "BNSbM0HNRzma",
        "outputId": "052829b2-53a9-4741-ab5d-5deabe182df8"
      },
      "outputs": [],
      "source": [
        "# Stripping whitespace\n",
        "text = \"   Hello, World!   \"\n",
        "stripped_text = text.strip()  # Removes spaces from both ends\n",
        "print(stripped_text)"
      ]
    },
    {
      "cell_type": "code",
      "execution_count": null,
      "metadata": {
        "colab": {
          "base_uri": "https://localhost:8080/"
        },
        "id": "v6WtfbxURzma",
        "outputId": "9a6d5766-cffb-4f93-d840-6596aee294a5"
      },
      "outputs": [],
      "source": [
        "# Finding substring\n",
        "text = \"Hello, World!\"\n",
        "index = text.find(\"World\")  # Returns the index where \"substring\" starts\n",
        "print(index)"
      ]
    },
    {
      "cell_type": "code",
      "execution_count": null,
      "metadata": {
        "colab": {
          "base_uri": "https://localhost:8080/"
        },
        "id": "itSLVn7SRzmb",
        "outputId": "b36c80a6-ac69-45d0-b265-9dc586dbaaae"
      },
      "outputs": [],
      "source": [
        "# Replacing substring\n",
        "text = \"Hello, World!\"\n",
        "new_text = text.replace(\"World\", \"Python\")\n",
        "print(new_text)"
      ]
    },
    {
      "cell_type": "code",
      "execution_count": null,
      "metadata": {
        "colab": {
          "base_uri": "https://localhost:8080/"
        },
        "id": "AaNhu8QMRzmb",
        "outputId": "3c6f84cb-4415-42c4-90f4-138f30425616"
      },
      "outputs": [],
      "source": [
        "# Checking substring existence\n",
        "text = \"Hello, World!\"\n",
        "contains_hello = \"Hello\" in text\n",
        "contains_python = \"Python\" in text\n",
        "print(contains_hello)\n",
        "print(contains_python)"
      ]
    },
    {
      "cell_type": "code",
      "execution_count": null,
      "metadata": {
        "colab": {
          "base_uri": "https://localhost:8080/"
        },
        "id": "MZ8PWiGzeKhU",
        "outputId": "f96abbb4-4796-43d7-fbbe-2bea031c1714"
      },
      "outputs": [],
      "source": [
        "# String length\n",
        "text = \"Hello, World!\"\n",
        "length = len(text)\n",
        "print(length)"
      ]
    },
    {
      "cell_type": "code",
      "execution_count": null,
      "metadata": {
        "colab": {
          "base_uri": "https://localhost:8080/"
        },
        "id": "k9ICF4NARzmb",
        "outputId": "83599abb-de2b-42ab-d2f7-82abc1c42b9f"
      },
      "outputs": [],
      "source": [
        "# Splitting string\n",
        "text = \"apple,banana,orange\"\n",
        "fruits = text.split(\",\")  # Split by comma\n",
        "print(fruits)"
      ]
    },
    {
      "cell_type": "code",
      "execution_count": null,
      "metadata": {
        "colab": {
          "base_uri": "https://localhost:8080/"
        },
        "id": "J6Q9RXwSRzmb",
        "outputId": "28bc8f51-0da9-4a1b-9f6c-045c622add42"
      },
      "outputs": [],
      "source": [
        "# Joining strings\n",
        "fruits = ['apple', 'banana', 'orange']\n",
        "joined_fruits = \", \".join(fruits)\n",
        "print(joined_fruits)"
      ]
    },
    {
      "cell_type": "code",
      "execution_count": null,
      "metadata": {
        "colab": {
          "base_uri": "https://localhost:8080/"
        },
        "id": "C-SjRINtoWMa",
        "outputId": "0668055e-d513-4a5b-e0c4-5f1cdfa541ee"
      },
      "outputs": [],
      "source": [
        "# String formatting\n",
        "name = \"Alice\"\n",
        "age = 25\n",
        "formatted_string = f\"My name is {name} and I am {age} years old.\"\n",
        "print(formatted_string)"
      ]
    },
    {
      "cell_type": "code",
      "execution_count": 3,
      "metadata": {
        "colab": {
          "base_uri": "https://localhost:8080/"
        },
        "id": "SuMMej-moYkY",
        "outputId": "c0295ba1-b388-4275-8c6c-893ae4baa062"
      },
      "outputs": [
        {
          "name": "stdout",
          "output_type": "stream",
          "text": [
            "True\n",
            "True\n"
          ]
        }
      ],
      "source": [
        "# Checking start or end\n",
        "text = \"Hello, World!\"\n",
        "starts_with_hello = text.startswith(\"Hello\")\n",
        "ends_with_world = text.endswith(\"World!\")\n",
        "print(starts_with_hello)\n",
        "print(ends_with_world)"
      ]
    },
    {
      "cell_type": "code",
      "execution_count": 2,
      "metadata": {
        "colab": {
          "base_uri": "https://localhost:8080/"
        },
        "id": "de65euTuob61",
        "outputId": "09b7c247-7e14-4aaa-dade-b7930e631985"
      },
      "outputs": [
        {
          "name": "stdout",
          "output_type": "stream",
          "text": [
            "3\n"
          ]
        }
      ],
      "source": [
        "# Counting occurrences\n",
        "text = \"banana\"\n",
        "count_a = text.count(\"a\")\n",
        "print(count_a)"
      ]
    },
    {
      "cell_type": "code",
      "execution_count": 1,
      "metadata": {
        "colab": {
          "base_uri": "https://localhost:8080/"
        },
        "id": "Ma2QmusioebO",
        "outputId": "7da4b311-a5b7-47d1-df51-094590a783e9"
      },
      "outputs": [
        {
          "name": "stdout",
          "output_type": "stream",
          "text": [
            "True\n",
            "False\n"
          ]
        }
      ],
      "source": [
        "# Checking if alphabetic\n",
        "text = \"Hello\"\n",
        "is_alpha = text.isalpha()\n",
        "print(is_alpha)\n",
        "\n",
        "text = \"Hello123\"\n",
        "is_alpha = text.isalpha()\n",
        "print(is_alpha)"
      ]
    },
    {
      "cell_type": "code",
      "execution_count": null,
      "metadata": {
        "colab": {
          "base_uri": "https://localhost:8080/"
        },
        "id": "Uw-NHR70oxMd",
        "outputId": "394f8d69-72b8-441a-ed57-48774031167e"
      },
      "outputs": [],
      "source": [
        "# Negative index example\n",
        "text = \"Hello, World!\"\n",
        "last_char = text[-1]  # Last character\n",
        "print(last_char)"
      ]
    },
    {
      "cell_type": "code",
      "execution_count": null,
      "metadata": {
        "colab": {
          "base_uri": "https://localhost:8080/"
        },
        "id": "R5eeGD7uoymd",
        "outputId": "59d11771-35f9-4e5e-94ad-73ca7b0c562b"
      },
      "outputs": [],
      "source": [
        "# Negative index slicing\n",
        "substring = text[-6:-1]\n",
        "print(substring)"
      ]
    },
    {
      "cell_type": "code",
      "execution_count": null,
      "metadata": {
        "colab": {
          "base_uri": "https://localhost:8080/"
        },
        "id": "Mbr9R7w9o2bd",
        "outputId": "354f1e7c-c6a5-4040-be4d-e21bfc5350ef"
      },
      "outputs": [],
      "source": [
        "# Reversing string\n",
        "reversed_text = text[::-1]  # Reverse the entire string\n",
        "print(reversed_text)"
      ]
    },
    {
      "cell_type": "code",
      "execution_count": null,
      "metadata": {
        "colab": {
          "base_uri": "https://localhost:8080/"
        },
        "id": "0woH5gW-o-OF",
        "outputId": "b7f6ff59-d500-4a89-b14f-7ce22dd5da8f"
      },
      "outputs": [],
      "source": [
        "# Slicing with negative step\n",
        "reversed_substring = text[-7:-1:2]  # Start from index -7, stop at index -1, step by 2\n",
        "print(reversed_substring)"
      ]
    },
    {
      "cell_type": "markdown",
      "metadata": {
        "id": "0OB3BsVJpBIt"
      },
      "source": [
        "**List**"
      ]
    },
    {
      "cell_type": "code",
      "execution_count": null,
      "metadata": {
        "colab": {
          "base_uri": "https://localhost:8080/"
        },
        "id": "1Upn_AwwRzmd",
        "outputId": "5c0341e4-02d2-4fa7-b816-09fa7c195173"
      },
      "outputs": [],
      "source": [
        "# Creating a list\n",
        "fruits = [\"apple\", \"banana\", \"cherry\"]\n",
        "print(fruits)"
      ]
    },
    {
      "cell_type": "code",
      "execution_count": null,
      "metadata": {
        "colab": {
          "base_uri": "https://localhost:8080/"
        },
        "id": "MSN71x4NRzmd",
        "outputId": "153cfe9c-289c-44cb-c8af-c224ae618535"
      },
      "outputs": [],
      "source": [
        "# Accessing list elements\n",
        "first_fruit = fruits[0]\n",
        "print(first_fruit)\n",
        "\n",
        "last_fruit = fruits[-1]  # Last element\n",
        "print(last_fruit)"
      ]
    },
    {
      "cell_type": "markdown",
      "metadata": {
        "id": "EAZkybb9Rzmd"
      },
      "source": [
        "Like strings (and all other built-in sequence types), lists can be indexed and sliced:"
      ]
    },
    {
      "cell_type": "code",
      "execution_count": null,
      "metadata": {
        "colab": {
          "base_uri": "https://localhost:8080/"
        },
        "id": "mroJxa8xRzmd",
        "outputId": "b8867e8c-6956-4f1f-9e3e-5ef7c3916f6d"
      },
      "outputs": [],
      "source": [
        "# Slicing a list\n",
        "sublist = fruits[1:3]  # Elements from index 1 to 2\n",
        "print(sublist)"
      ]
    },
    {
      "cell_type": "code",
      "execution_count": null,
      "metadata": {
        "colab": {
          "base_uri": "https://localhost:8080/"
        },
        "id": "9hZ2VcSURzmd",
        "outputId": "693d7eb7-d746-4fcc-ee11-d6a17b8569e1"
      },
      "outputs": [],
      "source": [
        "# Appending an element\n",
        "fruits.append(\"orange\")\n",
        "print(fruits)"
      ]
    },
    {
      "cell_type": "code",
      "execution_count": null,
      "metadata": {
        "colab": {
          "base_uri": "https://localhost:8080/"
        },
        "id": "7OTvEEpmRzme",
        "outputId": "9ccf7d2f-3b5f-4a07-e6c9-f0f4a5bc8d0a"
      },
      "outputs": [],
      "source": [
        "# Inserting an element\n",
        "fruits.insert(1, \"grape\")  # Insert \"grape\" at index 1\n",
        "print(fruits)"
      ]
    },
    {
      "cell_type": "code",
      "execution_count": null,
      "metadata": {
        "colab": {
          "base_uri": "https://localhost:8080/"
        },
        "id": "CNJjqWtzRzme",
        "outputId": "4ea592b7-281c-44db-ac46-682b8ec21d29"
      },
      "outputs": [],
      "source": [
        "# Removing by value\n",
        "fruits.remove(\"banana\")\n",
        "print(fruits)\n",
        "\n",
        "# Removing by index\n",
        "removed_fruit = fruits.pop(2)  # Removes element at index 2\n",
        "print(removed_fruit)\n",
        "print(fruits)"
      ]
    },
    {
      "cell_type": "code",
      "execution_count": null,
      "metadata": {
        "colab": {
          "base_uri": "https://localhost:8080/"
        },
        "id": "XD1ow2RDpjv1",
        "outputId": "cd1a8299-a67d-4a86-b76d-51ad942009f3"
      },
      "outputs": [],
      "source": [
        "# Finding the index of an element\n",
        "index_of_grape = fruits.index(\"grape\")\n",
        "print(index_of_grape)"
      ]
    },
    {
      "cell_type": "code",
      "execution_count": null,
      "metadata": {
        "colab": {
          "base_uri": "https://localhost:8080/"
        },
        "id": "DyOJ1nzPRzme",
        "outputId": "5749e700-04ab-48c2-a244-0d3514c16031"
      },
      "outputs": [],
      "source": [
        "# Checking existence of an element\n",
        "exists = \"apple\" in fruits\n",
        "print(exists)\n",
        "\n",
        "exists = \"banana\" in fruits\n",
        "print(exists)\n"
      ]
    },
    {
      "cell_type": "code",
      "execution_count": null,
      "metadata": {
        "colab": {
          "base_uri": "https://localhost:8080/"
        },
        "id": "ODxFEFb6Rzme",
        "outputId": "4f7767a9-d511-4316-c2bd-ce8c19f6995a"
      },
      "outputs": [],
      "source": [
        "# Getting the length of the list\n",
        "length = len(fruits)\n",
        "print(length)"
      ]
    },
    {
      "cell_type": "code",
      "execution_count": null,
      "metadata": {
        "colab": {
          "base_uri": "https://localhost:8080/"
        },
        "id": "k8zOnP5zRzme",
        "outputId": "3745658d-f8b5-4bdf-b48c-958ec231cc96"
      },
      "outputs": [],
      "source": [
        "# Sorting a list\n",
        "fruits = [\"orange\", \"banana\", \"apple\", \"grape\"]\n",
        "fruits.sort()\n",
        "print(fruits)"
      ]
    },
    {
      "cell_type": "code",
      "execution_count": null,
      "metadata": {
        "colab": {
          "base_uri": "https://localhost:8080/"
        },
        "id": "gyMui8TQpwOV",
        "outputId": "eeb53436-f665-4f19-bd5b-321d047a2e30"
      },
      "outputs": [],
      "source": [
        "# Reversing a list\n",
        "fruits.reverse()\n",
        "print(fruits)"
      ]
    },
    {
      "cell_type": "code",
      "execution_count": null,
      "metadata": {
        "colab": {
          "base_uri": "https://localhost:8080/"
        },
        "id": "ji6wnUDopysN",
        "outputId": "c9e37ae3-6d6d-4d05-d8cc-bb63d32a976a"
      },
      "outputs": [],
      "source": [
        "# List comprehension\n",
        "numbers = [1, 2, 3, 4, 5]\n",
        "squared_numbers = [n ** 2 for n in numbers]\n",
        "print(squared_numbers)"
      ]
    },
    {
      "cell_type": "code",
      "execution_count": null,
      "metadata": {
        "colab": {
          "base_uri": "https://localhost:8080/"
        },
        "id": "JvTcUVxlp3tl",
        "outputId": "c862e97e-4563-4556-ef2b-6c77ec8d4fad"
      },
      "outputs": [],
      "source": [
        "# Extending a list\n",
        "more_fruits = [\"kiwi\", \"melon\"]\n",
        "fruits.extend(more_fruits)\n",
        "print(fruits)"
      ]
    },
    {
      "cell_type": "code",
      "execution_count": null,
      "metadata": {
        "colab": {
          "base_uri": "https://localhost:8080/"
        },
        "id": "OW6x5DRFqEA-",
        "outputId": "6c33a19a-4eb5-4ef5-e283-c54226cf608a"
      },
      "outputs": [],
      "source": [
        "# List with different data types in nested lists\n",
        "mixed_nested_list = [[1, \"apple\", 3.14], [True, \"banana\", None], [False, 42, \"hello\"]]\n",
        "\n",
        "# Accessing elements\n",
        "print(mixed_nested_list[0])\n",
        "print(mixed_nested_list[1][1])\n",
        "print(mixed_nested_list[2][2])\n",
        "\n",
        "# Modifying an element in the nested list\n",
        "mixed_nested_list[2][0] = True\n",
        "print(mixed_nested_list)"
      ]
    },
    {
      "cell_type": "markdown",
      "metadata": {
        "id": "7SDG91olRzmf"
      },
      "source": [
        "Lists also support operations like concatenation"
      ]
    },
    {
      "cell_type": "code",
      "execution_count": null,
      "metadata": {
        "colab": {
          "base_uri": "https://localhost:8080/"
        },
        "id": "yyLLhPTYRzmf",
        "outputId": "7dd1e4c3-c304-4774-c181-1a8cd04b89b2"
      },
      "outputs": [],
      "source": [
        "# Two lists to concatenate\n",
        "list1 = [1, 2, 3]\n",
        "list2 = [4, 5, 6]\n",
        "\n",
        "# Concatenating the lists\n",
        "result = list1 + list2\n",
        "print(result)  # Output: [1, 2, 3, 4, 5, 6]"
      ]
    },
    {
      "cell_type": "markdown",
      "metadata": {
        "id": "TQ0Azt_2Rzmg"
      },
      "source": [
        "**Dictionary**\n",
        "<p style=\"text-align: justify\">Dictionaries are sometimes found in other languages as “associative memories” or “associative arrays”. Unlike sequences, which are indexed by a range of numbers, dictionaries are indexed by keys, which can be any immutable type; strings and numbers can always be keys.</p>\n",
        "\n",
        "<p style=\"text-align: justify\">It is best to think of a dictionary as a set of key: value pairs, with the requirement that the keys are unique (within one dictionary). A pair of braces creates an empty dictionary: {}. Placing a comma-separated list of key:value pairs within the braces adds initial key:value pairs to the dictionary; this is also the way dictionaries are written on output.</p>"
      ]
    },
    {
      "cell_type": "code",
      "execution_count": null,
      "metadata": {
        "colab": {
          "base_uri": "https://localhost:8080/"
        },
        "id": "re9nWSYYRzmg",
        "outputId": "ed69f94d-2db5-4aa9-8525-d94d949ecc54"
      },
      "outputs": [],
      "source": [
        "# Using curly braces\n",
        "person = {\"name\": \"John\", \"age\": 25, \"city\": \"New York\"}\n",
        "\n",
        "# Using dict() constructor\n",
        "person2 = dict(name=\"Jane\", age=30, city=\"Los Angeles\")\n",
        "\n",
        "print(person)"
      ]
    },
    {
      "cell_type": "code",
      "execution_count": null,
      "metadata": {
        "colab": {
          "base_uri": "https://localhost:8080/"
        },
        "id": "If-U0e50Ihle",
        "outputId": "f4daebdb-30ba-4255-b441-460cc4f01b7d"
      },
      "outputs": [],
      "source": [
        "# Accessing a value using a key\n",
        "print(person[\"name\"])\n",
        "print(person2[\"age\"])\n",
        "\n",
        "# Using get() method (safe way to access values)\n",
        "print(person.get(\"city\"))\n",
        "print(person.get(\"country\", \"Not found\"))"
      ]
    },
    {
      "cell_type": "code",
      "execution_count": null,
      "metadata": {
        "colab": {
          "base_uri": "https://localhost:8080/"
        },
        "id": "2GNIumzqRzmg",
        "outputId": "6236aaea-37b2-4c55-cc9f-97fe621bb381"
      },
      "outputs": [],
      "source": [
        "# Adding a new key-value pair\n",
        "person[\"country\"] = \"USA\"\n",
        "print(person)\n",
        "\n",
        "# Updating an existing key-value pair\n",
        "person[\"age\"] = 26\n",
        "print(person)"
      ]
    },
    {
      "cell_type": "code",
      "execution_count": null,
      "metadata": {
        "colab": {
          "base_uri": "https://localhost:8080/"
        },
        "id": "KzHZZf9ERzmg",
        "outputId": "95508996-dc3f-4b5e-e7e3-f43d0631bec3"
      },
      "outputs": [],
      "source": [
        "# Using del to remove a key-value pair\n",
        "del person[\"city\"]\n",
        "print(person)\n",
        "\n",
        "# Using pop() to remove a key-value pair and get the value\n",
        "age = person.pop(\"age\")\n",
        "print(person)\n",
        "print(age)\n",
        "\n",
        "# Using popitem() to remove and return the last key-value pair\n",
        "last_item = person.popitem()\n",
        "print(person)\n",
        "print(last_item)"
      ]
    },
    {
      "cell_type": "code",
      "execution_count": null,
      "metadata": {
        "colab": {
          "base_uri": "https://localhost:8080/"
        },
        "id": "onihNMhoRzmg",
        "outputId": "78457610-5337-488b-96d4-f59db85d5f33"
      },
      "outputs": [],
      "source": [
        "# Checking if a key exists\n",
        "print(\"name\" in person)\n",
        "print(\"age\" in person)"
      ]
    },
    {
      "cell_type": "code",
      "execution_count": null,
      "metadata": {
        "colab": {
          "base_uri": "https://localhost:8080/"
        },
        "id": "SII5SLdbRzmg",
        "outputId": "560df336-8cde-485b-d37d-469b31b1e7ab"
      },
      "outputs": [],
      "source": [
        "# Iterating over keys\n",
        "for key in person:\n",
        "    print(key)\n",
        "\n",
        "# Iterating over values\n",
        "for value in person.values():\n",
        "    print(value)\n",
        "\n",
        "# Iterating over key-value pairs\n",
        "for key, value in person.items():\n",
        "    print(key, value)\n"
      ]
    },
    {
      "cell_type": "markdown",
      "metadata": {
        "id": "6oeepB4tTdGN"
      },
      "source": [
        "\n",
        "## List of problems\n",
        "**Problem 1.** Assign values to some variables and perform different operations. Also print the results.\n",
        "\n",
        "**Problem 2.** Import a module of your choice and show some operations.\n",
        "\n",
        "**Problem 3.** Demonstrate some string operations. Also, show uses of some string methods.\n",
        "\n",
        "**Problem 4**. Implement stack using list\n",
        "\n",
        "> [Hints: The list methods make it very easy to use a list as a stack, where the last element added is the first element retrieved (“last-in, first-out”). To add an item to the top of the stack, use append(). To retrieve an item from the top of the stack, use pop() without an explicit index]\n",
        "\n",
        "**Problem 5.** Implement queue using list\n",
        "\n",
        "> [Hints: It is also possible to use a list as a queue, where the first element added is the first element retrieved (“first-in, first-out”)]\n",
        "\n",
        "**Problem 6.** Define a dictionary to store the details of persons. Also, print some data from the dictionary.\n",
        ">[Hint: You may require nesting dictionary, lists, string inside the dictionary.]\n",
        "\n",
        "**Problem 7.** Read the content from here\n",
        "> (https://docs.python.org/3/tutorial/datastructures.html#tuples-and-sequences ) to follow some examples on tuple and set.\n",
        "\n"
      ]
    },
    {
      "cell_type": "markdown",
      "metadata": {
        "id": "Ykibs9aKVJFq"
      },
      "source": [
        "#**Start your coding from here**\n",
        "\n",
        "\n",
        "---\n",
        "\n"
      ]
    },
    {
      "cell_type": "code",
      "execution_count": null,
      "metadata": {
        "id": "6o8ZKtMCUh7U"
      },
      "outputs": [],
      "source": [
        "## Problem 1\n",
        "x = 5;\n",
        "y = 10.5\n",
        "b = False;\n",
        "\n",
        "print(y / x)\n",
        "print(y // x)\n",
        "print(abs(y))\n",
        "print(x ** 2)\n",
        "\n",
        "z = 5 + 5.5;\n",
        "print(type(x))\n",
        "print(type(y))\n",
        "print(type(z))\n",
        "\n",
        "if b:\n",
        "    print(\"If condition ran\")\n",
        "else:\n",
        "    print(\"If condition didn't ran\")"
      ]
    },
    {
      "cell_type": "code",
      "execution_count": null,
      "metadata": {
        "id": "pAphs9a6UpOd"
      },
      "outputs": [],
      "source": [
        "## Problem 2\n",
        "\n",
        "import math\n",
        "import random\n",
        "\n",
        "angle = math.radians(30)\n",
        "print(math.sin(angle))\n",
        "print(math.cos(angle))\n",
        "print(math.tan(angle))\n",
        "\n",
        "print(f\"Value of Pi: {math.pi}\")\n",
        "print(f\"Log base 2 of 4: {math.log(4, 2)}\")\n",
        "print(f\"LCM of 4, 12, 15: {math.lcm(4, 12, 15)}\")\n",
        "\n",
        "## Choice game\n",
        "rand = random.randint(1, 10)\n",
        "choice = input(\"Choose a number between 1 and 10\")\n",
        "if (choice == rand):\n",
        "    print(f\"Your choice of {choice} is correct\")\n",
        "else:\n",
        "    print(f\"Your choice of {choice} is NOT correct :(\")\n"
      ]
    },
    {
      "cell_type": "code",
      "execution_count": null,
      "metadata": {
        "id": "pLQTez0RUpdT"
      },
      "outputs": [],
      "source": [
        "## Problem 3\n",
        "a = \"hello\"\n",
        "b = \"world\"\n",
        "c = a + \" \" + b\n",
        "print(c)\n",
        "print(a.upper())\n",
        "print(a.lower())\n",
        "\n",
        "print(f\"Reverse string: {c[-1::-1]}\")\n",
        "print(f\"Count of o: {c.count('o')}\")\n",
        "\n",
        "str = \"foo,bar\"\n",
        "str_split = str.split(',')\n",
        "print(str_split[0])\n",
        "\n",
        "str_joined = \"test\"\n",
        "str_joined = str_joined.join([str_split[0], str_split[1]])\n",
        "print(str_joined)\n"
      ]
    },
    {
      "cell_type": "code",
      "execution_count": null,
      "metadata": {
        "id": "9EjjgG88Upoz"
      },
      "outputs": [],
      "source": [
        "## Problem 4\n",
        "\n",
        "stack = []\n",
        "\n",
        "def stack_push(val):\n",
        "    stack.append(val)\n",
        "    print(f'Push: {val}')\n",
        "\n",
        "def stack_pop():\n",
        "    if len(stack) > 0:\n",
        "        print(f'Pop: {stack.pop()}')\n",
        "    else:\n",
        "        print('Stack is empty')\n",
        "\n",
        "print(f'Stack: {stack[-1::-1]}')\n",
        "\n",
        "stack_push(10)\n",
        "stack_push(15)\n",
        "stack_push(3)\n",
        "stack_push(7)\n",
        "\n",
        "print(f'Stack: {stack[-1::-1]}')\n",
        "stack_pop()\n",
        "stack_pop()\n",
        "stack_pop()\n",
        "\n",
        "stack_push(4)\n",
        "print(f'Stack: {stack[-1::-1]}')\n",
        "\n",
        "\n"
      ]
    },
    {
      "cell_type": "code",
      "execution_count": null,
      "metadata": {
        "id": "E_j7xXfVUpzQ"
      },
      "outputs": [],
      "source": [
        "## Problem 5\n",
        "queue = []\n",
        "\n",
        "def enqueue(val):\n",
        "    queue.append(val)\n",
        "    print(f'Enqueue: {val}')\n",
        "\n",
        "def dequeue():\n",
        "    if len(queue) > 0:\n",
        "        print(f'Dequeue: {queue.pop(0)}')\n",
        "    else:\n",
        "        print('Queue is empty')\n",
        "\n",
        "print(f'Stack: {queue}')\n",
        "\n",
        "enqueue(10)\n",
        "enqueue(15)\n",
        "enqueue(3)\n",
        "enqueue(7)\n",
        "\n",
        "print(f'Stack: {queue}')\n",
        "dequeue()\n",
        "dequeue()\n",
        "dequeue()\n",
        "\n",
        "enqueue(4)\n",
        "print(f'Stack: {queue}')"
      ]
    },
    {
      "cell_type": "code",
      "execution_count": null,
      "metadata": {
        "id": "BgkrtmWkUp-r"
      },
      "outputs": [],
      "source": [
        "## Problem 6\n",
        "\n",
        "persons = []\n",
        "\n",
        "def create_person(name, age, phone, email, address):\n",
        "    person = {'name': name,\n",
        "              'age': age,\n",
        "              'phone': phone,\n",
        "              'email': email,\n",
        "              'address': address}\n",
        "    \n",
        "    persons.append(person)\n",
        "\n",
        "\n",
        "def print_person(name):\n",
        "    for person in persons:\n",
        "        if person['name'] == name:\n",
        "            print(f'''Name: {person['name']}\\nAge: {person['age']}\\nPhone: {person['phone']}\\nEmail: {person['email']}\\nAddress: {person['address']}''')\n",
        "    \n",
        "\n",
        "create_person('Sadman', 22, '0170000000', 'sadman@gmail.com', 'Bashundhara, Dhaka')\n",
        "create_person('Sakib', 23, '01754324636', 'sakib@gmail.com', 'Khilkhet, Dhaka')\n",
        "\n",
        "# print(persons[1])\n",
        "print_person('Sakib')"
      ]
    },
    {
      "cell_type": "markdown",
      "metadata": {
        "id": "4S_g-H7rRzmh"
      },
      "source": [
        "**Tuples and Sets**\n",
        "<br>Use the content from [here](https://docs.python.org/3/tutorial/datastructures.html#tuples-and-sequences) to follow some examples on tuple and set."
      ]
    }
  ],
  "metadata": {
    "colab": {
      "provenance": []
    },
    "kernelspec": {
      "display_name": "Python 3",
      "language": "python",
      "name": "python3"
    },
    "language_info": {
      "codemirror_mode": {
        "name": "ipython",
        "version": 3
      },
      "file_extension": ".py",
      "mimetype": "text/x-python",
      "name": "python",
      "nbconvert_exporter": "python",
      "pygments_lexer": "ipython3",
      "version": "3.13.5"
    }
  },
  "nbformat": 4,
  "nbformat_minor": 0
}
